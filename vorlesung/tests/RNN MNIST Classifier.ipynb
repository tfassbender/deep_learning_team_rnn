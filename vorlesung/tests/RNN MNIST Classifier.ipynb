{
 "cells": [
  {
   "cell_type": "markdown",
   "metadata": {},
   "source": [
    "# RNN MNIST Classifier\n",
    "\n",
    "## Erkennung von Handgeschriebenen Ziffern (MNIST-Datensatz) mit verschiedenen RNNs"
   ]
  },
  {
   "cell_type": "markdown",
   "metadata": {},
   "source": [
    "Als erstes wird hier alles nötige importiert (wir verwenden hier Tensorflow ohne kein Keras) und ein paar Einstellungen werden vorgenommen:"
   ]
  },
  {
   "cell_type": "code",
   "execution_count": 1,
   "metadata": {
    "ExecuteTime": {
     "end_time": "2019-05-23T10:57:56.671196Z",
     "start_time": "2019-05-23T10:57:54.899014Z"
    }
   },
   "outputs": [],
   "source": [
    "# To support both python 2 and python 3\n",
    "from __future__ import division, print_function, unicode_literals\n",
    "\n",
    "# Common imports\n",
    "import numpy as np\n",
    "import os\n",
    "\n",
    "# to make this notebook's output stable across runs\n",
    "def reset_graph(seed=42):\n",
    "    tf.reset_default_graph()\n",
    "    tf.set_random_seed(seed)\n",
    "    np.random.seed(seed)\n",
    "\n",
    "# To plot pretty figures\n",
    "%matplotlib inline\n",
    "import matplotlib\n",
    "import matplotlib.pyplot as plt\n",
    "plt.rcParams['axes.labelsize'] = 14\n",
    "plt.rcParams['xtick.labelsize'] = 12\n",
    "plt.rcParams['ytick.labelsize'] = 12\n",
    "\n",
    "import tensorflow as tf"
   ]
  },
  {
   "cell_type": "markdown",
   "metadata": {},
   "source": [
    "## Klassifikation mit einem einfachen RNN\n",
    "\n",
    "Zunächst versuchen wir die Ziffern mit einem einfachen RNN zu klassifizieren. Wir verwenden 28 Input-Neuronen, die nacheinander je 28 Inputs erhallten (die MNIST-Bilder haben die größe 28x28). Als Hidden-Layer verwenden wir 150 BasicRNNCells (also einfache rekurrente Neuronen von Tensorflow). Der Output ist wie üblich eine vollvermaschte Schicht von 10 Neuronen, die mit einer Softmax-Funktion entscheiden um welche Ziffer es sich bei der Eingabe wahrscheinlich handelt.\n",
    "\n",
    "Das Netz besteht also aus:\n",
    "- 28 Eingabeneuronen (jede erhällt nacheinander 28 Inputs)\n",
    "- 150 einfache RNN Zellen (BasicRnnCell von Tensorflow) als Hidden-Layer\n",
    "- 10 Outputneuronen mit einer Softmax-Funktion zur Klassifizierung"
   ]
  },
  {
   "cell_type": "code",
   "execution_count": 2,
   "metadata": {
    "ExecuteTime": {
     "end_time": "2019-05-23T10:57:57.007616Z",
     "start_time": "2019-05-23T10:57:56.673217Z"
    }
   },
   "outputs": [
    {
     "name": "stdout",
     "output_type": "stream",
     "text": [
      "WARNING:tensorflow:From <ipython-input-2-6d484ccb1c14>:19: BasicRNNCell.__init__ (from tensorflow.python.ops.rnn_cell_impl) is deprecated and will be removed in a future version.\n",
      "Instructions for updating:\n",
      "This class is equivalent as tf.keras.layers.SimpleRNNCell, and will be replaced by that in Tensorflow 2.0.\n"
     ]
    }
   ],
   "source": [
    "#Das modell wird resettet um zu verhindern, das wir vorher schon etwas ausgeführt haben, das zu Problemen führen könnte\n",
    "reset_graph()\n",
    "\n",
    "#Die Eingabe- und Außgabegrößen und die Anzahl der Neuronen im Hidden-Layer werden festgelegt\n",
    "n_steps = 28\n",
    "n_inputs = 28\n",
    "n_neurons = 150\n",
    "n_outputs = 10\n",
    "\n",
    "learning_rate = 0.001\n",
    "\n",
    "#Die Placeholder sind in Tensorflow dazu da, die Eingaben (X Matrix) und die Ausgaben (y Vektor) im Graphen zu modellieren\n",
    "#Die Placeholder werden im Training und in der Ausführung durch die Werte des Datensatzes ersetzt\n",
    "X = tf.placeholder(tf.float32, [None, n_steps, n_inputs])\n",
    "y = tf.placeholder(tf.int32, [None])\n",
    "\n",
    "#Das Modell wird mit Tensorflow erstellt (sieht nicht ganz so schön aus wie mit Keras, tut aber im Prinzip das selbe...)\n",
    "#Das Hidden-Layer wird erstellt und erhällt als Eingaben die MNIST Daten (X Matrix)\n",
    "basic_cell = tf.nn.rnn_cell.BasicRNNCell(num_units=n_neurons)\n",
    "outputs, states = tf.nn.dynamic_rnn(basic_cell, X, dtype=tf.float32)\n",
    "\n",
    "#Die Ausgabeschicht ist eine Vollvermaschte Schicht mit 10 Ausgabeneuronen und einer Softmax-Aktivierungsfunktion\n",
    "logits = tf.layers.dense(states, n_outputs)\n",
    "xentropy = tf.nn.sparse_softmax_cross_entropy_with_logits(labels=y, logits=logits)\n",
    "\n",
    "#Das Modell wird mit einem Adams Optimierer trainiert, der die loss Funktion minimiert\n",
    "loss = tf.reduce_mean(xentropy)\n",
    "optimizer = tf.train.AdamOptimizer(learning_rate=learning_rate)\n",
    "training_op = optimizer.minimize(loss)\n",
    "#Hier werden die Ausgaben des Netzes mit den korrekten werten (aus dem Placeholder-Vektor y) verglichen\n",
    "correct = tf.nn.in_top_k(logits, y, 1)\n",
    "accuracy = tf.reduce_mean(tf.cast(correct, tf.float32))\n",
    "\n",
    "init = tf.global_variables_initializer()\n",
    "\n",
    "#Erzeugt einige Warnungen, weil einiges schon wieder Veraltet ist (das geht in Tensorflow sehr schnell)\n",
    "#Funktioniert aber trotzdem noch"
   ]
  },
  {
   "cell_type": "markdown",
   "metadata": {},
   "source": [
    "### Daten laden, aufteilen und trainieren\n",
    "\n",
    "Die Daten des MNIST-Datensatzes werden geladen, in Trainings-, Test- und Validierungssets unterteilt und dann wird das Netz (10 Epochen lang) trainiert."
   ]
  },
  {
   "cell_type": "code",
   "execution_count": 3,
   "metadata": {
    "ExecuteTime": {
     "end_time": "2019-05-23T10:59:10.302189Z",
     "start_time": "2019-05-23T10:57:57.009528Z"
    }
   },
   "outputs": [
    {
     "name": "stdout",
     "output_type": "stream",
     "text": [
      "1 Last batch accuracy: 0.9533333 Test accuracy: 0.9288\n",
      "2 Last batch accuracy: 0.96 Test accuracy: 0.9471\n",
      "3 Last batch accuracy: 0.96 Test accuracy: 0.9498\n",
      "4 Last batch accuracy: 0.97333336 Test accuracy: 0.9644\n",
      "5 Last batch accuracy: 0.97333336 Test accuracy: 0.9687\n",
      "6 Last batch accuracy: 0.93333334 Test accuracy: 0.9684\n",
      "7 Last batch accuracy: 0.98 Test accuracy: 0.9662\n",
      "8 Last batch accuracy: 1.0 Test accuracy: 0.9695\n",
      "9 Last batch accuracy: 0.99333334 Test accuracy: 0.968\n",
      "10 Last batch accuracy: 0.99333334 Test accuracy: 0.9721\n"
     ]
    }
   ],
   "source": [
    "#Die Daten werden geladen und aufgeteilt (und als Eingaben für das Netz vorbereitet)\n",
    "(X_train, y_train), (X_test, y_test) = tf.keras.datasets.mnist.load_data()\n",
    "X_train = X_train.astype(np.float32).reshape(-1, 28*28) / 255.0\n",
    "X_test = X_test.astype(np.float32).reshape(-1, 28*28) / 255.0\n",
    "y_train = y_train.astype(np.int32)\n",
    "y_test = y_test.astype(np.int32)\n",
    "X_valid, X_train = X_train[:5000], X_train[5000:]\n",
    "y_valid, y_train = y_train[:5000], y_train[5000:]\n",
    "\n",
    "def shuffle_batch(X, y, batch_size):\n",
    "    rnd_idx = np.random.permutation(len(X))\n",
    "    n_batches = len(X) // batch_size\n",
    "    for batch_idx in np.array_split(rnd_idx, n_batches):\n",
    "        X_batch, y_batch = X[batch_idx], y[batch_idx]\n",
    "        yield X_batch, y_batch\n",
    "\n",
    "X_test = X_test.reshape((-1, n_steps, n_inputs))\n",
    "\n",
    "\n",
    "#Das Netz wird über 10 Epochen mit einer Batchsize von 150 trainiert\n",
    "n_epochs = 10\n",
    "batch_size = 150\n",
    "\n",
    "train_accuracy_simple_rnn = np.empty(n_epochs)\n",
    "test_accuracy_simple_rnn = np.empty(n_epochs)\n",
    "\n",
    "with tf.Session() as sess:\n",
    "    init.run()\n",
    "    for epoch in range(n_epochs):\n",
    "        for X_batch, y_batch in shuffle_batch(X_train, y_train, batch_size):\n",
    "            X_batch = X_batch.reshape((-1, n_steps, n_inputs))\n",
    "            sess.run(training_op, feed_dict={X: X_batch, y: y_batch})\n",
    "        acc_batch = accuracy.eval(feed_dict={X: X_batch, y: y_batch})\n",
    "        acc_test = accuracy.eval(feed_dict={X: X_test, y: y_test})\n",
    "        train_accuracy_simple_rnn[epoch] = acc_batch\n",
    "        test_accuracy_simple_rnn[epoch] = acc_test\n",
    "        print(epoch + 1, \"Last batch accuracy:\", acc_batch, \"Test accuracy:\", acc_test)"
   ]
  },
  {
   "cell_type": "markdown",
   "metadata": {},
   "source": [
    "# Klassifikation mit einem tiefen RNN-Netz (3 Hidden-Layer)\n",
    "\n",
    "Hier trainieren wir ein tiefes Netz mit 3 Hidden-Layern auf die selben MNIST-Daten um die Netze zu vergleichen\n",
    "\n",
    "Das Netz besteht diesmal aus:\n",
    "- 28 Eingabeneuronen (jede erhällt nacheinander 28 Inputs)\n",
    "- 3 Hidden-Layern mit je 100 einfachen RNN Zellen (BasicRnnCell von Tensorflow)\n",
    "- 10 Outputneuronen mit einer Softmax-Funktion zur Klassifizierung"
   ]
  },
  {
   "cell_type": "code",
   "execution_count": 4,
   "metadata": {
    "ExecuteTime": {
     "end_time": "2019-05-23T10:59:10.809087Z",
     "start_time": "2019-05-23T10:59:10.304971Z"
    }
   },
   "outputs": [],
   "source": [
    "#Der vorher erstellte Graph wird wieder gelöscht\n",
    "reset_graph()\n",
    "\n",
    "#Die Eingabe- und Außgabegrößen werden festgelegt\n",
    "n_steps = 28\n",
    "n_inputs = 28\n",
    "n_outputs = 10\n",
    "\n",
    "learning_rate = 0.001\n",
    "\n",
    "#Die Placeholder sind in Tensorflow dazu da, die Eingaben (X Matrix) und die Ausgaben (y Vektor) im Graphen zu modellieren\n",
    "#Die Placeholder werden im Training und in der Ausführung durch die Werte des Datensatzes ersetzt\n",
    "X = tf.placeholder(tf.float32, [None, n_steps, n_inputs])\n",
    "y = tf.placeholder(tf.int32, [None])\n",
    "\n",
    "#Die Anzahl der Neuronen pro Hidden-Layer und die Anzahl der Hidden-Layer wird festgelegt\n",
    "n_neurons = 100\n",
    "n_layers = 3\n",
    "\n",
    "#Die Hidden-Layers werden als MultiRNNCell aus einer Liste von einfachen RNN-Layern erstellt\n",
    "layers = [tf.nn.rnn_cell.BasicRNNCell(num_units=n_neurons, activation=tf.nn.relu) for layer in range(n_layers)]\n",
    "multi_layer_cell = tf.nn.rnn_cell.MultiRNNCell(layers)\n",
    "outputs, states = tf.nn.dynamic_rnn(multi_layer_cell, X, dtype=tf.float32)\n",
    "\n",
    "#Die Ausgabeschicht ist eine Vollvermaschte Schicht mit 10 Ausgabeneuronen und einer Softmax-Aktivierungsfunktion\n",
    "states_concat = tf.concat(axis=1, values=states)\n",
    "logits = tf.layers.dense(states_concat, n_outputs)\n",
    "xentropy = tf.nn.sparse_softmax_cross_entropy_with_logits(labels=y, logits=logits)\n",
    "\n",
    "#Es wird wieder ein Adams-Optimierer erstellt, der die loss-funktion minimiert\n",
    "loss = tf.reduce_mean(xentropy)\n",
    "optimizer = tf.train.AdamOptimizer(learning_rate=learning_rate)\n",
    "training_op = optimizer.minimize(loss)\n",
    "#Hier werden die Ausgaben des Netzes mit den korrekten werten (aus dem Placeholder-Vektor y) verglichen\n",
    "correct = tf.nn.in_top_k(logits, y, 1)\n",
    "accuracy = tf.reduce_mean(tf.cast(correct, tf.float32))\n",
    "\n",
    "init = tf.global_variables_initializer()"
   ]
  },
  {
   "cell_type": "markdown",
   "metadata": {},
   "source": [
    "### Das Netz wird wieder in 10 Epochen trainiert"
   ]
  },
  {
   "cell_type": "code",
   "execution_count": 5,
   "metadata": {
    "ExecuteTime": {
     "end_time": "2019-05-23T11:00:47.482813Z",
     "start_time": "2019-05-23T10:59:10.810798Z"
    }
   },
   "outputs": [
    {
     "name": "stdout",
     "output_type": "stream",
     "text": [
      "1 Last batch accuracy: 0.94 Test accuracy: 0.94\n",
      "2 Last batch accuracy: 0.93333334 Test accuracy: 0.9563\n",
      "3 Last batch accuracy: 0.96666664 Test accuracy: 0.9691\n",
      "4 Last batch accuracy: 0.99333334 Test accuracy: 0.9714\n",
      "5 Last batch accuracy: 0.98 Test accuracy: 0.9672\n",
      "6 Last batch accuracy: 0.96666664 Test accuracy: 0.9779\n",
      "7 Last batch accuracy: 0.9866667 Test accuracy: 0.9782\n",
      "8 Last batch accuracy: 0.96666664 Test accuracy: 0.9767\n",
      "9 Last batch accuracy: 0.99333334 Test accuracy: 0.9777\n",
      "10 Last batch accuracy: 0.98 Test accuracy: 0.9738\n"
     ]
    }
   ],
   "source": [
    "#Die Daten sind schon geladen und aufgeteilt (für die Vergleichbarkeit werden die selben Daten verwendet)\n",
    "\n",
    "#Das Netz wird wieder über 10 Epochen trainiert\n",
    "n_epochs = 10\n",
    "batch_size = 150\n",
    "\n",
    "train_accuracy_deep_rnn = np.empty(n_epochs)\n",
    "test_accuracy_deep_rnn = np.empty(n_epochs)\n",
    "\n",
    "with tf.Session() as sess:\n",
    "    init.run()\n",
    "    for epoch in range(n_epochs):\n",
    "        for X_batch, y_batch in shuffle_batch(X_train, y_train, batch_size):\n",
    "            X_batch = X_batch.reshape((-1, n_steps, n_inputs))\n",
    "            sess.run(training_op, feed_dict={X: X_batch, y: y_batch})\n",
    "        acc_batch = accuracy.eval(feed_dict={X: X_batch, y: y_batch})\n",
    "        acc_test = accuracy.eval(feed_dict={X: X_test, y: y_test})\n",
    "        train_accuracy_deep_rnn[epoch] = acc_batch\n",
    "        test_accuracy_deep_rnn[epoch] = acc_test\n",
    "        print(epoch + 1, \"Last batch accuracy:\", acc_batch, \"Test accuracy:\", acc_test)"
   ]
  },
  {
   "cell_type": "markdown",
   "metadata": {},
   "source": [
    "# Klassifikation mit LSTM Zellen\n",
    "\n",
    "Hier trainieren wir wieder die MNIST-Daten auf einem tiefen RNN (3 Hidden-Layer). Aber statt der einfachen RNN Zellen verwenden wir dieses mal LSTM Zellen.\n",
    "\n",
    "Das Netz besteht diesmal aus:\n",
    "- 28 Eingabeneuronen (jede erhällt nacheinander 28 Inputs)\n",
    "- 3 Hidden-Layern mit je 100 LSTM Zellen (BasicLSTMCell von Tensorflow)\n",
    "- 10 Outputneuronen mit einer Softmax-Funktion zur Klassifizierung"
   ]
  },
  {
   "cell_type": "code",
   "execution_count": 6,
   "metadata": {
    "ExecuteTime": {
     "end_time": "2019-05-23T11:00:48.506150Z",
     "start_time": "2019-05-23T11:00:47.485487Z"
    }
   },
   "outputs": [
    {
     "name": "stdout",
     "output_type": "stream",
     "text": [
      "WARNING:tensorflow:From <ipython-input-6-bd300b699990>:19: BasicLSTMCell.__init__ (from tensorflow.python.ops.rnn_cell_impl) is deprecated and will be removed in a future version.\n",
      "Instructions for updating:\n",
      "This class is deprecated, please use tf.nn.rnn_cell.LSTMCell, which supports all the feature this cell currently has. Please replace the existing code with tf.nn.rnn_cell.LSTMCell(name='basic_lstm_cell').\n"
     ]
    }
   ],
   "source": [
    "#Der vorherige Graph wird mal wieder gelösch\n",
    "reset_graph()\n",
    "\n",
    "#Die Eingabe- und Außgabegrößen und die Anzahl der Neuronen im Hidden-Layer werden festgelegt\n",
    "n_steps = 28\n",
    "n_inputs = 28\n",
    "n_neurons = 100\n",
    "n_outputs = 10\n",
    "n_layers = 3\n",
    "\n",
    "learning_rate = 0.001\n",
    "\n",
    "#Die Placeholder sind in Tensorflow dazu da, die Eingaben (X Matrix) und die Ausgaben (y Vektor) im Graphen zu modellieren\n",
    "#Die Placeholder werden im Training und in der Ausführung durch die Werte des Datensatzes ersetzt\n",
    "X = tf.placeholder(tf.float32, [None, n_steps, n_inputs])\n",
    "y = tf.placeholder(tf.int32, [None])\n",
    "\n",
    "#Die Hidden-Layers werden wieder als eine MultiRNNCell modelliert; diesmal sind die einzelnen Neuronen aber LSTM Zellen\n",
    "lstm_cells = [tf.nn.rnn_cell.BasicLSTMCell(num_units=n_neurons) for layer in range(n_layers)]\n",
    "multi_cell = tf.nn.rnn_cell.MultiRNNCell(lstm_cells)\n",
    "outputs, states = tf.nn.dynamic_rnn(multi_cell, X, dtype=tf.float32)\n",
    "top_layer_h_state = states[-1][1]\n",
    "\n",
    "#Die Ausgabeschicht ist eine Vollvermaschte Schicht mit 10 Ausgabeneuronen und einer Softmax-Aktivierungsfunktion\n",
    "logits = tf.layers.dense(top_layer_h_state, n_outputs, name=\"softmax\")\n",
    "xentropy = tf.nn.sparse_softmax_cross_entropy_with_logits(labels=y, logits=logits)\n",
    "\n",
    "#Es wird wieder ein Adams-Optimierer erstellt, der die loss-funktion minimiert\n",
    "loss = tf.reduce_mean(xentropy, name=\"loss\")\n",
    "optimizer = tf.train.AdamOptimizer(learning_rate=learning_rate)\n",
    "training_op = optimizer.minimize(loss)\n",
    "#Hier werden die Ausgaben des Netzes mit den korrekten werten (aus dem Placeholder-Vektor y) verglichen\n",
    "correct = tf.nn.in_top_k(logits, y, 1)\n",
    "accuracy = tf.reduce_mean(tf.cast(correct, tf.float32))\n",
    "\n",
    "init = tf.global_variables_initializer()"
   ]
  },
  {
   "cell_type": "markdown",
   "metadata": {},
   "source": [
    "### Das Netz wird wieder in 10 Epochen trainiert"
   ]
  },
  {
   "cell_type": "code",
   "execution_count": 7,
   "metadata": {
    "ExecuteTime": {
     "end_time": "2019-05-23T11:05:09.086110Z",
     "start_time": "2019-05-23T11:00:48.507975Z"
    }
   },
   "outputs": [
    {
     "name": "stdout",
     "output_type": "stream",
     "text": [
      "1 Last batch accuracy: 0.94666666 Test accuracy: 0.9379\n",
      "2 Last batch accuracy: 0.96666664 Test accuracy: 0.9674\n",
      "3 Last batch accuracy: 0.97333336 Test accuracy: 0.9722\n",
      "4 Last batch accuracy: 0.9866667 Test accuracy: 0.9812\n",
      "5 Last batch accuracy: 0.96666664 Test accuracy: 0.9817\n",
      "6 Last batch accuracy: 0.99333334 Test accuracy: 0.982\n",
      "7 Last batch accuracy: 0.99333334 Test accuracy: 0.9848\n",
      "8 Last batch accuracy: 0.99333334 Test accuracy: 0.9867\n",
      "9 Last batch accuracy: 1.0 Test accuracy: 0.9857\n",
      "10 Last batch accuracy: 1.0 Test accuracy: 0.9861\n"
     ]
    }
   ],
   "source": [
    "#Die Daten sind schon geladen und aufgeteilt (für die Vergleichbarkeit werden die selben Daten verwendet)\n",
    "\n",
    "#Das Netz wird wieder über 10 Epochen trainiert\n",
    "n_epochs = 10\n",
    "batch_size = 150\n",
    "\n",
    "train_accuracy_lstm_rnn = np.empty(n_epochs)\n",
    "test_accuracy_lstm_rnn = np.empty(n_epochs)\n",
    "\n",
    "with tf.Session() as sess:\n",
    "    init.run()\n",
    "    for epoch in range(n_epochs):\n",
    "        for X_batch, y_batch in shuffle_batch(X_train, y_train, batch_size):\n",
    "            X_batch = X_batch.reshape((-1, n_steps, n_inputs))\n",
    "            sess.run(training_op, feed_dict={X: X_batch, y: y_batch})\n",
    "        acc_batch = accuracy.eval(feed_dict={X: X_batch, y: y_batch})\n",
    "        acc_test = accuracy.eval(feed_dict={X: X_test, y: y_test})\n",
    "        train_accuracy_lstm_rnn[epoch] = acc_batch\n",
    "        test_accuracy_lstm_rnn[epoch] = acc_test\n",
    "        print(epoch + 1, \"Last batch accuracy:\", acc_batch, \"Test accuracy:\", acc_test)"
   ]
  },
  {
   "cell_type": "markdown",
   "metadata": {},
   "source": [
    "## Vergleich der Netze"
   ]
  },
  {
   "cell_type": "code",
   "execution_count": 8,
   "metadata": {
    "ExecuteTime": {
     "end_time": "2019-05-23T11:16:28.985284Z",
     "start_time": "2019-05-23T11:16:28.762241Z"
    }
   },
   "outputs": [
    {
     "data": {
      "image/png": "[encoded data removed]",
      "text/plain": [
       "<Figure size 432x288 with 1 Axes>"
      ]
     },
     "metadata": {
      "needs_background": "light"
     },
     "output_type": "display_data"
    }
   ],
   "source": [
    "x = [i+1 for i in range(n_epochs)]\n",
    "plt.plot(x, test_accuracy_simple_rnn, label=\"Einfaches RNN\")\n",
    "plt.plot(x, test_accuracy_deep_rnn, label=\"Deep RNN\")\n",
    "plt.plot(x, test_accuracy_lstm_rnn, label=\"LSTM\")\n",
    "plt.legend()\n",
    "plt.xlabel(\"Epoche\")\n",
    "plt.ylabel(\"Accuracy\")\n",
    "plt.title(\"Test-Accuracy\")\n",
    "plt.show()"
   ]
  },
  {
   "cell_type": "code",
   "execution_count": null,
   "metadata": {},
   "outputs": [],
   "source": []
  }
 ],
 "metadata": {
  "hide_input": false,
  "kernelspec": {
   "display_name": "Python 3",
   "language": "python",
   "name": "python3"
  },
  "language_info": {
   "codemirror_mode": {
    "name": "ipython",
    "version": 3
   },
   "file_extension": ".py",
   "mimetype": "text/x-python",
   "name": "python",
   "nbconvert_exporter": "python",
   "pygments_lexer": "ipython3",
   "version": "3.6.8"
  },
  "varInspector": {
   "cols": {
    "lenName": 16,
    "lenType": 16,
    "lenVar": 40
   },
   "kernels_config": {
    "python": {
     "delete_cmd_postfix": "",
     "delete_cmd_prefix": "del ",
     "library": "var_list.py",
     "varRefreshCmd": "print(var_dic_list())"
    },
    "r": {
     "delete_cmd_postfix": ") ",
     "delete_cmd_prefix": "rm(",
     "library": "var_list.r",
     "varRefreshCmd": "cat(var_dic_list()) "
    }
   },
   "types_to_exclude": [
    "module",
    "function",
    "builtin_function_or_method",
    "instance",
    "_Feature"
   ],
   "window_display": false
  }
 },
 "nbformat": 4,
 "nbformat_minor": 2
}

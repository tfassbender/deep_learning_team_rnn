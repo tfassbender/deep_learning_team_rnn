{
 "cells": [
  {
   "cell_type": "markdown",
   "metadata": {},
   "source": [
    "# Übung 7 - Recurrent Neural Networks"
   ]
  },
  {
   "cell_type": "markdown",
   "metadata": {},
   "source": [
    "In dieser Übung wirst du ein RNN mittels Keras selbst erstellen und trainieren.\n",
    "\n",
    "Das RNN soll Zeichenketten der Form `123+654` Zeichen für Zeichen one-hot kodiert als Eingabe erhalten und anschließend das Ergebnis der beschriebenen Rechnung zeichenweise ausgeben.\n",
    "Es handelt sich hierbei also um *sequence to sequence learning*, da wir aus einer Eingabesequenz anschließend eine Ausgabesequenz erzeugen.\n",
    "\n",
    "Die Trainingsdaten, auf denen wir das Netz trainieren, können wir selbst erzeugen."
   ]
  },
  {
   "cell_type": "code",
   "execution_count": null,
   "metadata": {},
   "outputs": [],
   "source": [
    "from keras.models import Sequential, Model\n",
    "from keras.layers import LSTM, GRU, SimpleRNN, RepeatVector, TimeDistributed, Dense, Input, Lambda\n",
    "import keras.backend as K\n",
    "import numpy as np\n",
    "import matplotlib.pyplot as plt"
   ]
  },
  {
   "cell_type": "markdown",
   "metadata": {},
   "source": [
    "## One-hot encoding"
   ]
  },
  {
   "cell_type": "markdown",
   "metadata": {},
   "source": [
    "Zunächst benötigen wir eine Klasse, welche die one-hot Kodierung und Dekodierung übernimmt.\n",
    "\n",
    "**Aufgabe**: Implementiere eine Klasse, welche zu Kodierung und Dekodierung der Eingabesequenzen verwendet werden kann. Diese soll folgende Funktionalitäten bieten:\n",
    "* Übergabe das Alphabets als Zeichenkette bei der Objekterzeugung\n",
    "* Kodierung eines Strings: Umwandlung eines Strings in eine Matrix, welche die Vektoren aus der one-hot kodierten Eingabe enthält. Zusätzlich soll eine Länge angegeben werden, auf die mit Leerzeichen aufgefüllt wird.\n",
    "    * Dimensionen der entstehenden Matrix: `(string_length, alphabet_length)`\n",
    "* Dekodierung eines Vektors. Als Eingabe erhält die Funktionen einen Vektor mit den Wahrscheinlichkeiten der Auswahl der Zeichen, also einen Vektor mit `alphabet_length` Einträgen. Hier reicht es aus das Zeichen, welches mit höchster Wahrscheinlichkeit ausgewählt wird, zu ermitteln und zurückzugeben."
   ]
  },
  {
   "cell_type": "code",
   "execution_count": null,
   "metadata": {},
   "outputs": [],
   "source": [
    "class OneHot(object):\n",
    "    def __init__(self, characters):\n",
    "        self.chars = sorted(set(characters))\n",
    "        self.char_to_index = dict((char, i) for i, char in enumerate(self.chars))\n",
    "        self.index_to_char = dict((i, char) for i, char in enumerate(self.chars))\n",
    "\n",
    "    def encode(self, string, length):\n",
    "        enc = np.zeros((length, len(self.chars)))\n",
    "        for i, char in enumerate(string):\n",
    "            enc[i, self.char_to_index[char]] = 1\n",
    "        for i in range(len(string), length):\n",
    "            enc[i, self.char_to_index[' ']] = 1\n",
    "        return enc\n",
    "    \n",
    "    def decode_max(self, vec):\n",
    "        return self.index_to_char[np.argmax(vec)]"
   ]
  },
  {
   "cell_type": "markdown",
   "metadata": {},
   "source": [
    "## Erzeugung der Trainingsdaten"
   ]
  },
  {
   "cell_type": "markdown",
   "metadata": {},
   "source": [
    "Zum Training des Netzes benötigen wir Trainingsdaten, welche wir uns in ausreichender Menge selbst erstellen können."
   ]
  },
  {
   "cell_type": "markdown",
   "metadata": {},
   "source": [
    "**Aufgabe**: Erstelle eine Funktion, welche"
   ]
  },
  {
   "cell_type": "code",
   "execution_count": null,
   "metadata": {},
   "outputs": [],
   "source": [
    "def create_data_add(size, digits=3):\n",
    "    X = []\n",
    "    y = []\n",
    "    hist = []\n",
    "    while len(X) < size:\n",
    "        num1 = np.random.randint(low=0, high=10 ** digits - 1)\n",
    "        num2 = np.random.randint(low=0, high=10 ** digits - 1)\n",
    "        if not (num1, num2) in hist:\n",
    "            hist.append((num1, num2))\n",
    "            X.append('{}+{}'.format(num1, num2))\n",
    "            y.append(str(num1 + num2))\n",
    "    return X, y"
   ]
  },
  {
   "cell_type": "markdown",
   "metadata": {},
   "source": [
    "**Aufgabe**: Erzeuge einen Datensatz mit 50000 Einträgen, welchen wir für das Training benutzen und erzeuge die One-Hot kodierte Matrix dieses Datensatzes."
   ]
  },
  {
   "cell_type": "code",
   "execution_count": null,
   "metadata": {},
   "outputs": [],
   "source": [
    "X, y = create_data_add(50000)\n",
    "\n",
    "encoder = OneHot('0123456789+ ')\n",
    "for i in range(len(X)):\n",
    "    X[i] = encoder.encode(X[i], 3 * 2 + 1)\n",
    "    y[i] = encoder.encode(y[i], 4)"
   ]
  },
  {
   "cell_type": "code",
   "execution_count": null,
   "metadata": {},
   "outputs": [],
   "source": [
    "X = np.array(X)\n",
    "y = np.array(y)\n",
    "X_train, X_val = X[:80000], X[80000:]\n",
    "y_train, y_val = y[:80000], y[80000:]"
   ]
  },
  {
   "cell_type": "code",
   "execution_count": null,
   "metadata": {},
   "outputs": [],
   "source": [
    "HIDDEN_SIZE = 256\n",
    "MAXLEN = 3 * 2 + 1"
   ]
  },
  {
   "cell_type": "code",
   "execution_count": null,
   "metadata": {},
   "outputs": [],
   "source": [
    "model = Sequential()\n",
    "model.add(GRU(HIDDEN_SIZE, input_shape=(MAXLEN, 12)))\n",
    "model.add(RepeatVector(3 + 1))\n",
    "model.add(GRU(HIDDEN_SIZE, return_sequences=True))\n",
    "model.add(TimeDistributed(Dense(12, activation='softmax')))\n",
    "model.compile(loss='categorical_crossentropy', optimizer='adam', metrics=['accuracy'])\n",
    "model.summary()"
   ]
  },
  {
   "cell_type": "code",
   "execution_count": null,
   "metadata": {},
   "outputs": [],
   "source": [
    "model.compile(optimizer='adam', loss='categorical_crossentropy')"
   ]
  },
  {
   "cell_type": "code",
   "execution_count": null,
   "metadata": {},
   "outputs": [],
   "source": [
    "class colors:\n",
    "    ok = '\\033[92m'\n",
    "    fail = '\\033[91m'\n",
    "    close = '\\033[0m'\n"
   ]
  },
  {
   "cell_type": "code",
   "execution_count": null,
   "metadata": {
    "scrolled": false
   },
   "outputs": [],
   "source": [
    "for iteration in range(1, 21):\n",
    "    print()\n",
    "    print('-' * 50)\n",
    "    print('Iteration', iteration)\n",
    "    model.fit(X_train, y_train,\n",
    "              batch_size=1000,\n",
    "              epochs=1,\n",
    "              validation_data=(X_val, y_val))\n",
    "    # Select 10 samples from the validation set at random so we can visualize\n",
    "    # errors.\n",
    "    for i in range(10):\n",
    "        ind = np.random.randint(0, len(X_val))\n",
    "        rowx, rowy = X_val[ind], y_val[ind]\n",
    "        strx = ''\n",
    "        for seqx in rowx:\n",
    "            strx += encoder.decode_max(seqx)\n",
    "        stry = ''\n",
    "        for seqy in rowy:\n",
    "            stry += encoder.decode_max(seqy)\n",
    "        preds = model.predict_classes([[rowx]], verbose=0)\n",
    "        strpred = ''\n",
    "        for p in preds[0]:\n",
    "            strpred += encoder.index_to_char[p]\n",
    "        if stry.strip() == strpred.strip():\n",
    "            print('{}{} = {} ☑ {}{}'.format(colors.ok, strx, stry, strpred, colors.close))\n",
    "        else:\n",
    "            print('{}{} = {} ☒ {}{}'.format(colors.fail, strx, stry, strpred, colors.close))"
   ]
  },
  {
   "cell_type": "code",
   "execution_count": null,
   "metadata": {},
   "outputs": [],
   "source": [
    "def create_data_sub(size, digits=3):\n",
    "    X = []\n",
    "    y = []\n",
    "    hist = []\n",
    "    while len(X) < size:\n",
    "        num1 = np.random.randint(low=0, high=10 ** digits - 1)\n",
    "        num2 = np.random.randint(low=0, high=10 ** digits - 1)\n",
    "        if not (num1, num2) in hist:\n",
    "            hist.append((num1, num2))\n",
    "            X.append('{}-{}'.format(num1, num2))\n",
    "            y.append(str(num1 - num2))\n",
    "    return X, y"
   ]
  },
  {
   "cell_type": "code",
   "execution_count": null,
   "metadata": {},
   "outputs": [],
   "source": [
    "X, y = create_data_sub(50000)\n",
    "\n",
    "encoder_sub = OneHot('0123456789- ')\n",
    "for i in range(len(X)):\n",
    "    X[i] = encoder_sub.encode(X[i], 3 * 2 + 1)\n",
    "    y[i] = encoder_sub.encode(y[i], 4)\n",
    "    \n",
    "X = np.array(X)\n",
    "y = np.array(y)\n",
    "X_train, X_val = X[:40000], X[40000:]\n",
    "y_train, y_val = y[:40000], y[40000:]"
   ]
  },
  {
   "cell_type": "code",
   "execution_count": null,
   "metadata": {
    "scrolled": true
   },
   "outputs": [],
   "source": [
    "for iteration in range(1, 31):\n",
    "    print()\n",
    "    print('-' * 50)\n",
    "    print('Iteration', iteration)\n",
    "    model.fit(X_train, y_train,\n",
    "              batch_size=128,\n",
    "              epochs=1,\n",
    "              validation_data=(X_val, y_val))\n",
    "    # Select 10 samples from the validation set at random so we can visualize\n",
    "    # errors.\n",
    "    for i in range(10):\n",
    "        ind = np.random.randint(0, len(X_val))\n",
    "        rowx, rowy = X_val[ind], y_val[ind]\n",
    "        strx = ''\n",
    "        for seqx in rowx:\n",
    "            strx += encoder_sub.decode_max(seqx)\n",
    "        stry = ''\n",
    "        for seqy in rowy:\n",
    "            stry += encoder_sub.decode_max(seqy)\n",
    "        preds = model.predict_classes([[rowx]], verbose=0)\n",
    "        strpred = ''\n",
    "        for p in preds[0]:\n",
    "            strpred += encoder_sub.index_to_char[p]\n",
    "        if stry.strip() == strpred.strip():\n",
    "            print('{}{} = {} ☑ {}{}'.format(colors.ok, strx, stry, strpred, colors.close))\n",
    "        else:\n",
    "            print('{}{} = {} ☒ {}{}'.format(colors.fail, strx, stry, strpred, colors.close))"
   ]
  }
 ],
 "metadata": {
  "hide_input": false,
  "kernelspec": {
   "display_name": "Python 3",
   "language": "python",
   "name": "python3"
  },
  "language_info": {
   "codemirror_mode": {
    "name": "ipython",
    "version": 3
   },
   "file_extension": ".py",
   "mimetype": "text/x-python",
   "name": "python",
   "nbconvert_exporter": "python",
   "pygments_lexer": "ipython3",
   "version": "3.5.4"
  }
 },
 "nbformat": 4,
 "nbformat_minor": 2
}
